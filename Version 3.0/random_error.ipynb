{
 "cells": [
  {
   "cell_type": "code",
   "execution_count": 12,
   "metadata": {},
   "outputs": [],
   "source": [
    "import numpy as np\n",
    "import qutip as qt\n",
    "import matplotlib.pyplot as plt\n",
    "import matplotlib as mpl\n",
    "import seaborn as sns\n",
    "from tqdm import tqdm\n",
    "import time, timeit\n",
    "\n",
    "from procedure_notebook import Procedure\n",
    "import measurables"
   ]
  },
  {
   "cell_type": "code",
   "execution_count": 13,
   "metadata": {},
   "outputs": [],
   "source": [
    "proc = Procedure()\n",
    "proc.setParameters(L = 3)\n",
    "N_cycles = 30\n",
    "setup_state_for_next_cycle = Procedure.pass_density_matrix_with_errors\n",
    "using_state_vectors = False\n",
    "using_density_matrices = True"
   ]
  },
  {
   "cell_type": "code",
   "execution_count": 14,
   "metadata": {},
   "outputs": [],
   "source": [
    "#Operator za prekrivanje z osnovnimi stanji\n",
    "eigenenergies, eigenstates = measurables.tfim_hamiltonian(proc.L, proc.tfim_parameters).eigenstates()\n",
    "\n",
    "\n",
    "ground_energy = eigenenergies[0]\n",
    "ground_states = []\n",
    "for i in range(len(eigenenergies)):\n",
    "    if np.round(eigenenergies[i], 8) == np.round(ground_energy, 8):\n",
    "        eigenstates[i] = eigenstates[i].ptrace([i for i in range(proc.L)])\n",
    "        ground_states.append(eigenstates[i] * eigenstates[i].dag())\n",
    "    else:\n",
    "        break \n",
    "\n",
    "\n",
    "def measure(state, proc):\n",
    "\n",
    "    energy = qt.expect(measurables.tfim_hamiltonian(proc.L, proc.tfim_parameters), state)\n",
    "    state = state.ptrace([i for i in range(proc.L)])\n",
    "    \n",
    "    product = 0\n",
    "    for gstate in ground_states:\n",
    "        product += Procedure.abs_squared_scalarproduct(state, gstate)\n",
    "\n",
    "    return [energy, product]\n",
    "\n",
    "\n"
   ]
  },
  {
   "cell_type": "code",
   "execution_count": null,
   "metadata": {},
   "outputs": [],
   "source": [
    "bigdata = []\n",
    "\n",
    "errors = [0, 0.001, 0.01, 0.1, 0.2]\n",
    "\n",
    "for error in errors:\n",
    "    print(f\"start {error}\")\n",
    "    proc.error_percentage = error\n",
    "    data = proc.runProcedure(N_cycles=50, measure=measure, setup_state_for_next_cycle=Procedure.pass_density_matrix_with_errors, using_density_matrices=True)\n",
    "    bigdata.append(data)\n",
    "    print(f\"done {error}\")\n"
   ]
  },
  {
   "cell_type": "code",
   "execution_count": null,
   "metadata": {},
   "outputs": [],
   "source": [
    "fig, axs = plt.subplots(2,1)\n",
    "ax1, ax2 = axs\n",
    "\n",
    "for i in range(len(errors)):\n",
    "    data = bigdata[i]\n",
    "    energies = []\n",
    "    products = []\n",
    "\n",
    "    #for i in range(len(data[0,:,0])):\n",
    "    #    for j in range(len(data[0,0,:])):\n",
    "    #        energies.append(data[0,i,j])\n",
    "    #        products.append(data[1,i,j])\n",
    "\n",
    "    energies = data[0,:,-1]\n",
    "    products = data[1,:,-1]\n",
    "\n",
    "    ax1.plot(energies, label = f\"{100 * error:0.0f}% error\")\n",
    "    ax2.plot(products, label = f\"{100 * error:0.0f}% error\")\n"
   ]
  }
 ],
 "metadata": {
  "kernelspec": {
   "display_name": "IJS2024-Humar_edition",
   "language": "python",
   "name": "python3"
  },
  "language_info": {
   "codemirror_mode": {
    "name": "ipython",
    "version": 3
   },
   "file_extension": ".py",
   "mimetype": "text/x-python",
   "name": "python",
   "nbconvert_exporter": "python",
   "pygments_lexer": "ipython3",
   "version": "3.11.8"
  }
 },
 "nbformat": 4,
 "nbformat_minor": 2
}
