{
 "cells": [
  {
   "cell_type": "code",
   "execution_count": 1,
   "metadata": {},
   "outputs": [],
   "source": [
    "import numpy as np\n",
    "import qutip as qt\n",
    "import matplotlib.pyplot as plt\n",
    "import matplotlib as mpl\n",
    "import seaborn as sns\n",
    "from tqdm import tqdm\n",
    "import time, timeit\n",
    "\n",
    "import procedure_lib as proclib"
   ]
  },
  {
   "cell_type": "code",
   "execution_count": 2,
   "metadata": {},
   "outputs": [
    {
     "data": {
      "application/vnd.jupyter.widget-view+json": {
       "model_id": "ded1cbe23c834463a5d0a5328fb69c84",
       "version_major": 2,
       "version_minor": 0
      },
      "text/plain": [
       "  0%|          | 0/2 [00:00<?, ?it/s]"
      ]
     },
     "metadata": {},
     "output_type": "display_data"
    },
    {
     "data": {
      "application/vnd.jupyter.widget-view+json": {
       "model_id": "c67cd6c7afe1461e9abe6fb295f824b8",
       "version_major": 2,
       "version_minor": 0
      },
      "text/plain": [
       "eigens:   0%|          | 0/501 [00:00<?, ?it/s]"
      ]
     },
     "metadata": {},
     "output_type": "display_data"
    },
    {
     "data": {
      "application/vnd.jupyter.widget-view+json": {
       "model_id": "eceef6d906cd4eee9fce904c71466c81",
       "version_major": 2,
       "version_minor": 0
      },
      "text/plain": [
       "eigens:   0%|          | 0/501 [00:00<?, ?it/s]"
      ]
     },
     "metadata": {},
     "output_type": "display_data"
    }
   ],
   "source": [
    "ideal = proclib.Procedure(L=2, N_cycles=2)\n",
    "xyz = proclib.Procedure(L=2, N_cycles=2, remake_product_state_LSQ=True)\n",
    "\n",
    "#data = ideal.run_with_mesolve()\n",
    "\n",
    "data = xyz.run_with_sesolve()"
   ]
  },
  {
   "cell_type": "code",
   "execution_count": 9,
   "metadata": {},
   "outputs": [
    {
     "name": "stdout",
     "output_type": "stream",
     "text": [
      "1.0\n"
     ]
    }
   ],
   "source": [
    "def innerproduct(a,b):\n",
    "    prod = a.dag() * b\n",
    "    if type(prod) is complex:\n",
    "        return np.abs(prod)\n",
    "    else:\n",
    "        return np.abs((a*b).tr())"
   ]
  },
  {
   "cell_type": "code",
   "execution_count": 16,
   "metadata": {},
   "outputs": [
    {
     "name": "stdout",
     "output_type": "stream",
     "text": [
      "(1, 1002, 16)\n",
      "(1, 1002, 16)\n"
     ]
    }
   ],
   "source": [
    "eigen = data[1]\n",
    "state = data[0]\n",
    "\n",
    "energies_for_cycle, states_for_cycle, dotproducts= [], [], []\n",
    "temp1, temp2, temp3 = [], [], []\n",
    "for i in range(len(eigen)):\n",
    "    for j in range(len(eigen[i])):\n",
    "        temp1.append(eigen[i][j][0])\n",
    "        temp2.append(eigen[i][j][1])\n",
    "        \n",
    "        temp33 = []\n",
    "        for k in range(len(eigen[i][j][1])):\n",
    "            temp33.append(innerproduct(state[i][j], eigen[i][j][1][k]))\n",
    "            \n",
    "        temp3.append(temp33)\n",
    "        \n",
    "energies_for_cycle.append(temp1)\n",
    "states_for_cycle.append(temp2)\n",
    "dotproducts.append(temp3)\n",
    "    \n",
    "energies_for_cycle = np.array(energies_for_cycle)\n",
    "states_for_cycle = np.array(states_for_cycle)\n",
    "dotproducts = np.array(dotproducts)\n",
    "\n",
    "print(energies_for_cycle.shape)\n",
    "print(dotproducts.shape)"
   ]
  },
  {
   "cell_type": "code",
   "execution_count": 23,
   "metadata": {},
   "outputs": [],
   "source": [
    "def index_to_statename(n):\n",
    "    if n == 0: return \"Ground state\"\n",
    "    elif n == 1: return \"1st excited state\"\n",
    "    elif n == 2: return \"2nd excited state\"\n",
    "    elif n == 3: return \"3rd excited state\"\n",
    "    else: return f\"{n}th excited state\""
   ]
  },
  {
   "cell_type": "code",
   "execution_count": null,
   "metadata": {},
   "outputs": [],
   "source": [
    "def plot_wide_line(fig, xdata, ydata, width):\n",
    "    ydata = np.array(ydata)\n",
    "    width = np.array(width)\n",
    "    fig.fill_between(xdata, ydata-width/2, ydata+width/2)"
   ]
  },
  {
   "cell_type": "code",
   "execution_count": null,
   "metadata": {},
   "outputs": [],
   "source": [
    "energy = energies_for_cycle[0,:,:]\n",
    "states = states_for_cycle[0,:,:]\n",
    "\n",
    "plt.figure(figsize = (40,40))\n",
    "\n",
    "for i in range(len(energy[0,:])):\n",
    "    \n",
    "    plt.plot(energy[:,i], label = index_to_statename(i))\n",
    "    \n",
    "#plt.legend()\n",
    "plt.show()"
   ]
  }
 ],
 "metadata": {
  "kernelspec": {
   "display_name": "IJS2024-Humar_edition",
   "language": "python",
   "name": "python3"
  },
  "language_info": {
   "codemirror_mode": {
    "name": "ipython",
    "version": 3
   },
   "file_extension": ".py",
   "mimetype": "text/x-python",
   "name": "python",
   "nbconvert_exporter": "python",
   "pygments_lexer": "ipython3",
   "version": "3.11.8"
  }
 },
 "nbformat": 4,
 "nbformat_minor": 2
}
