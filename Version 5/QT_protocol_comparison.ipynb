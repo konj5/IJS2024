{
 "cells": [
  {
   "cell_type": "code",
   "execution_count": 1,
   "metadata": {},
   "outputs": [],
   "source": [
    "import numpy as np\n",
    "import qutip as qt\n",
    "import matplotlib.pyplot as plt\n",
    "import matplotlib as mpl\n",
    "import seaborn as sns\n",
    "from tqdm import tqdm\n",
    "import time, timeit\n",
    "\n",
    "from procedure_notebook import Procedure, Hamiltonian\n",
    "import measurables"
   ]
  },
  {
   "cell_type": "code",
   "execution_count": 2,
   "metadata": {},
   "outputs": [],
   "source": [
    "proc = Procedure()\n",
    "\n",
    "proc.setParameters(L = 4, J = 1, hx=0.2)\n",
    "\n",
    "eigenenergies, eigenstates = measurables.tfim_hamiltonian(proc.L, proc.tfim_parameters).eigenstates()\n",
    "\n",
    "\n",
    "ground_energy = eigenenergies[0]\n",
    "ground_states = []\n",
    "for i in range(len(eigenenergies)):\n",
    "    if np.round(eigenenergies[i], 8) == np.round(ground_energy, 8):\n",
    "        eigenstates[i] = eigenstates[i].ptrace([i for i in range(proc.L)])\n",
    "        ground_states.append(eigenstates[i] * eigenstates[i].dag())\n",
    "    else:\n",
    "        break \n",
    "\n",
    "\n",
    "def measure(state, proc):\n",
    "\n",
    "    energy = qt.expect(measurables.tfim_hamiltonian(proc.L, proc.tfim_parameters), state)\n",
    "    state = state.ptrace([i for i in range(proc.L)])\n",
    "    \n",
    "    product = 0\n",
    "    for gstate in ground_states:\n",
    "        product += Procedure.abs_squared_scalarproduct(state, gstate)\n",
    "\n",
    "    return [energy, product]\n",
    "    \n",
    "\n",
    "N_cycles = 30"
   ]
  },
  {
   "cell_type": "code",
   "execution_count": 3,
   "metadata": {},
   "outputs": [
    {
     "name": "stdout",
     "output_type": "stream",
     "text": [
      "True\n"
     ]
    },
    {
     "data": {
      "application/vnd.jupyter.widget-view+json": {
       "model_id": "12ed7efe8ce3493199a38b99c06006e6",
       "version_major": 2,
       "version_minor": 0
      },
      "text/plain": [
       "Cycle:   0%|          | 0/30 [00:00<?, ?it/s]"
      ]
     },
     "metadata": {},
     "output_type": "display_data"
    },
    {
     "data": {
      "application/vnd.jupyter.widget-view+json": {
       "model_id": "f5ddfadc5971426c9d825caf2ff923ed",
       "version_major": 2,
       "version_minor": 0
      },
      "text/plain": [
       "mesolve:   0%|          | 0/500 [00:00<?, ?it/s]"
      ]
     },
     "metadata": {},
     "output_type": "display_data"
    },
    {
     "data": {
      "application/vnd.jupyter.widget-view+json": {
       "model_id": "a00735a4a2104d959d4f0d9a481a8975",
       "version_major": 2,
       "version_minor": 0
      },
      "text/plain": [
       "mesolve:   0%|          | 0/500 [00:00<?, ?it/s]"
      ]
     },
     "metadata": {},
     "output_type": "display_data"
    },
    {
     "data": {
      "application/vnd.jupyter.widget-view+json": {
       "model_id": "39dc94932200440fbd1ff040c9f91e0f",
       "version_major": 2,
       "version_minor": 0
      },
      "text/plain": [
       "mesolve:   0%|          | 0/500 [00:00<?, ?it/s]"
      ]
     },
     "metadata": {},
     "output_type": "display_data"
    },
    {
     "data": {
      "application/vnd.jupyter.widget-view+json": {
       "model_id": "3ab4cea79ddc4cabb86a54a6103be6fa",
       "version_major": 2,
       "version_minor": 0
      },
      "text/plain": [
       "mesolve:   0%|          | 0/500 [00:00<?, ?it/s]"
      ]
     },
     "metadata": {},
     "output_type": "display_data"
    },
    {
     "data": {
      "application/vnd.jupyter.widget-view+json": {
       "model_id": "5c45493fb98f42baba0f7fbb112f65cb",
       "version_major": 2,
       "version_minor": 0
      },
      "text/plain": [
       "mesolve:   0%|          | 0/500 [00:00<?, ?it/s]"
      ]
     },
     "metadata": {},
     "output_type": "display_data"
    },
    {
     "data": {
      "application/vnd.jupyter.widget-view+json": {
       "model_id": "68db98ff41db44a495bea706c4b69aaf",
       "version_major": 2,
       "version_minor": 0
      },
      "text/plain": [
       "mesolve:   0%|          | 0/500 [00:00<?, ?it/s]"
      ]
     },
     "metadata": {},
     "output_type": "display_data"
    },
    {
     "data": {
      "application/vnd.jupyter.widget-view+json": {
       "model_id": "f1fcee7998b443c8b371988a06490721",
       "version_major": 2,
       "version_minor": 0
      },
      "text/plain": [
       "mesolve:   0%|          | 0/500 [00:00<?, ?it/s]"
      ]
     },
     "metadata": {},
     "output_type": "display_data"
    },
    {
     "data": {
      "application/vnd.jupyter.widget-view+json": {
       "model_id": "8f6d30282bee4403a76784cb07cc05f7",
       "version_major": 2,
       "version_minor": 0
      },
      "text/plain": [
       "mesolve:   0%|          | 0/500 [00:00<?, ?it/s]"
      ]
     },
     "metadata": {},
     "output_type": "display_data"
    },
    {
     "data": {
      "application/vnd.jupyter.widget-view+json": {
       "model_id": "95eade27ecc94f6c9e56d36062e4099d",
       "version_major": 2,
       "version_minor": 0
      },
      "text/plain": [
       "mesolve:   0%|          | 0/500 [00:00<?, ?it/s]"
      ]
     },
     "metadata": {},
     "output_type": "display_data"
    },
    {
     "data": {
      "application/vnd.jupyter.widget-view+json": {
       "model_id": "58092f3c1e3c4a6bac9a606888717a8b",
       "version_major": 2,
       "version_minor": 0
      },
      "text/plain": [
       "mesolve:   0%|          | 0/500 [00:00<?, ?it/s]"
      ]
     },
     "metadata": {},
     "output_type": "display_data"
    },
    {
     "data": {
      "application/vnd.jupyter.widget-view+json": {
       "model_id": "603802e9f6894e5d9f249ab049cca5a3",
       "version_major": 2,
       "version_minor": 0
      },
      "text/plain": [
       "mesolve:   0%|          | 0/500 [00:00<?, ?it/s]"
      ]
     },
     "metadata": {},
     "output_type": "display_data"
    },
    {
     "data": {
      "application/vnd.jupyter.widget-view+json": {
       "model_id": "37dc22a008424bf28ba3cf305890d200",
       "version_major": 2,
       "version_minor": 0
      },
      "text/plain": [
       "mesolve:   0%|          | 0/500 [00:00<?, ?it/s]"
      ]
     },
     "metadata": {},
     "output_type": "display_data"
    },
    {
     "data": {
      "application/vnd.jupyter.widget-view+json": {
       "model_id": "59e3bf668e3e45b8936bd09795347378",
       "version_major": 2,
       "version_minor": 0
      },
      "text/plain": [
       "mesolve:   0%|          | 0/500 [00:00<?, ?it/s]"
      ]
     },
     "metadata": {},
     "output_type": "display_data"
    },
    {
     "data": {
      "application/vnd.jupyter.widget-view+json": {
       "model_id": "559b10975e6444619037e307350580a6",
       "version_major": 2,
       "version_minor": 0
      },
      "text/plain": [
       "mesolve:   0%|          | 0/500 [00:00<?, ?it/s]"
      ]
     },
     "metadata": {},
     "output_type": "display_data"
    },
    {
     "data": {
      "application/vnd.jupyter.widget-view+json": {
       "model_id": "989f31a72c324b7eba637c413e7828f7",
       "version_major": 2,
       "version_minor": 0
      },
      "text/plain": [
       "mesolve:   0%|          | 0/500 [00:00<?, ?it/s]"
      ]
     },
     "metadata": {},
     "output_type": "display_data"
    },
    {
     "data": {
      "application/vnd.jupyter.widget-view+json": {
       "model_id": "3f41697193bf4b518d70a0ab0849b471",
       "version_major": 2,
       "version_minor": 0
      },
      "text/plain": [
       "mesolve:   0%|          | 0/500 [00:00<?, ?it/s]"
      ]
     },
     "metadata": {},
     "output_type": "display_data"
    },
    {
     "data": {
      "application/vnd.jupyter.widget-view+json": {
       "model_id": "b097b78a8289439d9b375a9573da8f0c",
       "version_major": 2,
       "version_minor": 0
      },
      "text/plain": [
       "mesolve:   0%|          | 0/500 [00:00<?, ?it/s]"
      ]
     },
     "metadata": {},
     "output_type": "display_data"
    },
    {
     "data": {
      "application/vnd.jupyter.widget-view+json": {
       "model_id": "f3e8e2fa00a84918891d6352d5292d13",
       "version_major": 2,
       "version_minor": 0
      },
      "text/plain": [
       "mesolve:   0%|          | 0/500 [00:00<?, ?it/s]"
      ]
     },
     "metadata": {},
     "output_type": "display_data"
    },
    {
     "data": {
      "application/vnd.jupyter.widget-view+json": {
       "model_id": "91be83e71df940d69b5918aa134bc71d",
       "version_major": 2,
       "version_minor": 0
      },
      "text/plain": [
       "mesolve:   0%|          | 0/500 [00:00<?, ?it/s]"
      ]
     },
     "metadata": {},
     "output_type": "display_data"
    },
    {
     "data": {
      "application/vnd.jupyter.widget-view+json": {
       "model_id": "20418782952849be815362c4ca6efd07",
       "version_major": 2,
       "version_minor": 0
      },
      "text/plain": [
       "mesolve:   0%|          | 0/500 [00:00<?, ?it/s]"
      ]
     },
     "metadata": {},
     "output_type": "display_data"
    },
    {
     "data": {
      "application/vnd.jupyter.widget-view+json": {
       "model_id": "a6cb4770f87b48ba92f32acac3198fe6",
       "version_major": 2,
       "version_minor": 0
      },
      "text/plain": [
       "mesolve:   0%|          | 0/500 [00:00<?, ?it/s]"
      ]
     },
     "metadata": {},
     "output_type": "display_data"
    },
    {
     "data": {
      "application/vnd.jupyter.widget-view+json": {
       "model_id": "b165896550c84197ac8c89c2307bfb06",
       "version_major": 2,
       "version_minor": 0
      },
      "text/plain": [
       "mesolve:   0%|          | 0/500 [00:00<?, ?it/s]"
      ]
     },
     "metadata": {},
     "output_type": "display_data"
    },
    {
     "data": {
      "application/vnd.jupyter.widget-view+json": {
       "model_id": "9ecd6dac29f54cfca350d06ee343ac3f",
       "version_major": 2,
       "version_minor": 0
      },
      "text/plain": [
       "mesolve:   0%|          | 0/500 [00:00<?, ?it/s]"
      ]
     },
     "metadata": {},
     "output_type": "display_data"
    },
    {
     "data": {
      "application/vnd.jupyter.widget-view+json": {
       "model_id": "cc72f843f52c4ddaa3fd6d151899366e",
       "version_major": 2,
       "version_minor": 0
      },
      "text/plain": [
       "mesolve:   0%|          | 0/500 [00:00<?, ?it/s]"
      ]
     },
     "metadata": {},
     "output_type": "display_data"
    },
    {
     "data": {
      "application/vnd.jupyter.widget-view+json": {
       "model_id": "5ac06b296bb74e69a9927df857d0ab97",
       "version_major": 2,
       "version_minor": 0
      },
      "text/plain": [
       "mesolve:   0%|          | 0/500 [00:00<?, ?it/s]"
      ]
     },
     "metadata": {},
     "output_type": "display_data"
    },
    {
     "data": {
      "application/vnd.jupyter.widget-view+json": {
       "model_id": "bcdc96894e4241278ecd6e61a44a8e06",
       "version_major": 2,
       "version_minor": 0
      },
      "text/plain": [
       "mesolve:   0%|          | 0/500 [00:00<?, ?it/s]"
      ]
     },
     "metadata": {},
     "output_type": "display_data"
    },
    {
     "data": {
      "application/vnd.jupyter.widget-view+json": {
       "model_id": "a01a3d27ffd74281a259e03d8e7a0857",
       "version_major": 2,
       "version_minor": 0
      },
      "text/plain": [
       "mesolve:   0%|          | 0/500 [00:00<?, ?it/s]"
      ]
     },
     "metadata": {},
     "output_type": "display_data"
    },
    {
     "data": {
      "application/vnd.jupyter.widget-view+json": {
       "model_id": "0350bb7f99ba479a863249d050e96e0e",
       "version_major": 2,
       "version_minor": 0
      },
      "text/plain": [
       "mesolve:   0%|          | 0/500 [00:00<?, ?it/s]"
      ]
     },
     "metadata": {},
     "output_type": "display_data"
    },
    {
     "data": {
      "application/vnd.jupyter.widget-view+json": {
       "model_id": "319d9e51b6d84433a2e03ebd6c270464",
       "version_major": 2,
       "version_minor": 0
      },
      "text/plain": [
       "mesolve:   0%|          | 0/500 [00:00<?, ?it/s]"
      ]
     },
     "metadata": {},
     "output_type": "display_data"
    },
    {
     "data": {
      "application/vnd.jupyter.widget-view+json": {
       "model_id": "dd377dedff84424f8b014da0b365b2b5",
       "version_major": 2,
       "version_minor": 0
      },
      "text/plain": [
       "mesolve:   0%|          | 0/500 [00:00<?, ?it/s]"
      ]
     },
     "metadata": {},
     "output_type": "display_data"
    },
    {
     "name": "stdout",
     "output_type": "stream",
     "text": [
      "True\n"
     ]
    },
    {
     "data": {
      "application/vnd.jupyter.widget-view+json": {
       "model_id": "36411fc1b8b2444a99e0ee0fd565b5ed",
       "version_major": 2,
       "version_minor": 0
      },
      "text/plain": [
       "Cycle:   0%|          | 0/30 [00:00<?, ?it/s]"
      ]
     },
     "metadata": {},
     "output_type": "display_data"
    },
    {
     "data": {
      "application/vnd.jupyter.widget-view+json": {
       "model_id": "e256a730b7614c5398b7946934df7c70",
       "version_major": 2,
       "version_minor": 0
      },
      "text/plain": [
       "sesolve:   0%|          | 0/500 [00:00<?, ?it/s]"
      ]
     },
     "metadata": {},
     "output_type": "display_data"
    },
    {
     "data": {
      "application/vnd.jupyter.widget-view+json": {
       "model_id": "c282f7bfe12848569a2860304f4cbb0c",
       "version_major": 2,
       "version_minor": 0
      },
      "text/plain": [
       "sesolve:   0%|          | 0/500 [00:00<?, ?it/s]"
      ]
     },
     "metadata": {},
     "output_type": "display_data"
    },
    {
     "data": {
      "application/vnd.jupyter.widget-view+json": {
       "model_id": "b77535134a4a40fcafb5b23a80a4db30",
       "version_major": 2,
       "version_minor": 0
      },
      "text/plain": [
       "sesolve:   0%|          | 0/500 [00:00<?, ?it/s]"
      ]
     },
     "metadata": {},
     "output_type": "display_data"
    },
    {
     "data": {
      "application/vnd.jupyter.widget-view+json": {
       "model_id": "73db0b100fa74601bfc94345c52a5ab8",
       "version_major": 2,
       "version_minor": 0
      },
      "text/plain": [
       "sesolve:   0%|          | 0/500 [00:00<?, ?it/s]"
      ]
     },
     "metadata": {},
     "output_type": "display_data"
    },
    {
     "data": {
      "application/vnd.jupyter.widget-view+json": {
       "model_id": "8f8f3e72e5de464caea7899d7fbd3359",
       "version_major": 2,
       "version_minor": 0
      },
      "text/plain": [
       "sesolve:   0%|          | 0/500 [00:00<?, ?it/s]"
      ]
     },
     "metadata": {},
     "output_type": "display_data"
    },
    {
     "data": {
      "application/vnd.jupyter.widget-view+json": {
       "model_id": "05d9280947ef4e26aa4294e8391438ad",
       "version_major": 2,
       "version_minor": 0
      },
      "text/plain": [
       "sesolve:   0%|          | 0/500 [00:00<?, ?it/s]"
      ]
     },
     "metadata": {},
     "output_type": "display_data"
    },
    {
     "data": {
      "application/vnd.jupyter.widget-view+json": {
       "model_id": "2299d415464a47278996cfa25655fc19",
       "version_major": 2,
       "version_minor": 0
      },
      "text/plain": [
       "sesolve:   0%|          | 0/500 [00:00<?, ?it/s]"
      ]
     },
     "metadata": {},
     "output_type": "display_data"
    },
    {
     "data": {
      "application/vnd.jupyter.widget-view+json": {
       "model_id": "39a9f5748527402db5d724ec2b9feb8b",
       "version_major": 2,
       "version_minor": 0
      },
      "text/plain": [
       "sesolve:   0%|          | 0/500 [00:00<?, ?it/s]"
      ]
     },
     "metadata": {},
     "output_type": "display_data"
    },
    {
     "data": {
      "application/vnd.jupyter.widget-view+json": {
       "model_id": "1bd9af5858ca4b67ad0d65b66cd07fa4",
       "version_major": 2,
       "version_minor": 0
      },
      "text/plain": [
       "sesolve:   0%|          | 0/500 [00:00<?, ?it/s]"
      ]
     },
     "metadata": {},
     "output_type": "display_data"
    },
    {
     "data": {
      "application/vnd.jupyter.widget-view+json": {
       "model_id": "af8e65ef4e5b4e4a868e1ee31074f2eb",
       "version_major": 2,
       "version_minor": 0
      },
      "text/plain": [
       "sesolve:   0%|          | 0/500 [00:00<?, ?it/s]"
      ]
     },
     "metadata": {},
     "output_type": "display_data"
    },
    {
     "data": {
      "application/vnd.jupyter.widget-view+json": {
       "model_id": "f8a76f4afddc4b93937a77d8069e469d",
       "version_major": 2,
       "version_minor": 0
      },
      "text/plain": [
       "sesolve:   0%|          | 0/500 [00:00<?, ?it/s]"
      ]
     },
     "metadata": {},
     "output_type": "display_data"
    },
    {
     "data": {
      "application/vnd.jupyter.widget-view+json": {
       "model_id": "e32bf07385d74f89bdb2986a02efeea5",
       "version_major": 2,
       "version_minor": 0
      },
      "text/plain": [
       "sesolve:   0%|          | 0/500 [00:00<?, ?it/s]"
      ]
     },
     "metadata": {},
     "output_type": "display_data"
    },
    {
     "data": {
      "application/vnd.jupyter.widget-view+json": {
       "model_id": "fa461bc6fd08482bb6c9bd7ed79df797",
       "version_major": 2,
       "version_minor": 0
      },
      "text/plain": [
       "sesolve:   0%|          | 0/500 [00:00<?, ?it/s]"
      ]
     },
     "metadata": {},
     "output_type": "display_data"
    },
    {
     "data": {
      "application/vnd.jupyter.widget-view+json": {
       "model_id": "9be28de86f66416783f31419c1bce2a1",
       "version_major": 2,
       "version_minor": 0
      },
      "text/plain": [
       "sesolve:   0%|          | 0/500 [00:00<?, ?it/s]"
      ]
     },
     "metadata": {},
     "output_type": "display_data"
    },
    {
     "data": {
      "application/vnd.jupyter.widget-view+json": {
       "model_id": "4e7a94187eaa4d10a6970d3c939fc5c9",
       "version_major": 2,
       "version_minor": 0
      },
      "text/plain": [
       "sesolve:   0%|          | 0/500 [00:00<?, ?it/s]"
      ]
     },
     "metadata": {},
     "output_type": "display_data"
    },
    {
     "data": {
      "application/vnd.jupyter.widget-view+json": {
       "model_id": "c4e44498ae984780a5dd1d600e78abc8",
       "version_major": 2,
       "version_minor": 0
      },
      "text/plain": [
       "sesolve:   0%|          | 0/500 [00:00<?, ?it/s]"
      ]
     },
     "metadata": {},
     "output_type": "display_data"
    },
    {
     "data": {
      "application/vnd.jupyter.widget-view+json": {
       "model_id": "2f8c6095b43e4eaa9bda0acfa03a1b52",
       "version_major": 2,
       "version_minor": 0
      },
      "text/plain": [
       "sesolve:   0%|          | 0/500 [00:00<?, ?it/s]"
      ]
     },
     "metadata": {},
     "output_type": "display_data"
    },
    {
     "data": {
      "application/vnd.jupyter.widget-view+json": {
       "model_id": "581af88020ad40429b55322411c24949",
       "version_major": 2,
       "version_minor": 0
      },
      "text/plain": [
       "sesolve:   0%|          | 0/500 [00:00<?, ?it/s]"
      ]
     },
     "metadata": {},
     "output_type": "display_data"
    },
    {
     "data": {
      "application/vnd.jupyter.widget-view+json": {
       "model_id": "649a2ecbab1c4caabbf662e1b4aa8665",
       "version_major": 2,
       "version_minor": 0
      },
      "text/plain": [
       "sesolve:   0%|          | 0/500 [00:00<?, ?it/s]"
      ]
     },
     "metadata": {},
     "output_type": "display_data"
    },
    {
     "data": {
      "application/vnd.jupyter.widget-view+json": {
       "model_id": "dcdc9127227248ea8e1b89d0262a3ffe",
       "version_major": 2,
       "version_minor": 0
      },
      "text/plain": [
       "sesolve:   0%|          | 0/500 [00:00<?, ?it/s]"
      ]
     },
     "metadata": {},
     "output_type": "display_data"
    },
    {
     "data": {
      "application/vnd.jupyter.widget-view+json": {
       "model_id": "d179d1be1c8c4f498e043dc94791d4fa",
       "version_major": 2,
       "version_minor": 0
      },
      "text/plain": [
       "sesolve:   0%|          | 0/500 [00:00<?, ?it/s]"
      ]
     },
     "metadata": {},
     "output_type": "display_data"
    },
    {
     "data": {
      "application/vnd.jupyter.widget-view+json": {
       "model_id": "ccba68143d0e4831b1a1dc9ce2731a1e",
       "version_major": 2,
       "version_minor": 0
      },
      "text/plain": [
       "sesolve:   0%|          | 0/500 [00:00<?, ?it/s]"
      ]
     },
     "metadata": {},
     "output_type": "display_data"
    },
    {
     "data": {
      "application/vnd.jupyter.widget-view+json": {
       "model_id": "173e31b47b644fa1a2786e0151d96fb2",
       "version_major": 2,
       "version_minor": 0
      },
      "text/plain": [
       "sesolve:   0%|          | 0/500 [00:00<?, ?it/s]"
      ]
     },
     "metadata": {},
     "output_type": "display_data"
    },
    {
     "data": {
      "application/vnd.jupyter.widget-view+json": {
       "model_id": "67d2bbd9be3245e398fb8a86cdef340a",
       "version_major": 2,
       "version_minor": 0
      },
      "text/plain": [
       "sesolve:   0%|          | 0/500 [00:00<?, ?it/s]"
      ]
     },
     "metadata": {},
     "output_type": "display_data"
    },
    {
     "data": {
      "application/vnd.jupyter.widget-view+json": {
       "model_id": "37c24fff5e834e28ae7d4800c26fdacd",
       "version_major": 2,
       "version_minor": 0
      },
      "text/plain": [
       "sesolve:   0%|          | 0/500 [00:00<?, ?it/s]"
      ]
     },
     "metadata": {},
     "output_type": "display_data"
    },
    {
     "data": {
      "application/vnd.jupyter.widget-view+json": {
       "model_id": "fdce0a07c50c47ce9b289d983f89735d",
       "version_major": 2,
       "version_minor": 0
      },
      "text/plain": [
       "sesolve:   0%|          | 0/500 [00:00<?, ?it/s]"
      ]
     },
     "metadata": {},
     "output_type": "display_data"
    },
    {
     "data": {
      "application/vnd.jupyter.widget-view+json": {
       "model_id": "a3a1e1421c7549618cc39fdbf705ad0f",
       "version_major": 2,
       "version_minor": 0
      },
      "text/plain": [
       "sesolve:   0%|          | 0/500 [00:00<?, ?it/s]"
      ]
     },
     "metadata": {},
     "output_type": "display_data"
    },
    {
     "data": {
      "application/vnd.jupyter.widget-view+json": {
       "model_id": "2a8e8453ce1744c7b82e750f280baa5a",
       "version_major": 2,
       "version_minor": 0
      },
      "text/plain": [
       "sesolve:   0%|          | 0/500 [00:00<?, ?it/s]"
      ]
     },
     "metadata": {},
     "output_type": "display_data"
    },
    {
     "data": {
      "application/vnd.jupyter.widget-view+json": {
       "model_id": "785fdbe472d449699f89114d1896ac9c",
       "version_major": 2,
       "version_minor": 0
      },
      "text/plain": [
       "sesolve:   0%|          | 0/500 [00:00<?, ?it/s]"
      ]
     },
     "metadata": {},
     "output_type": "display_data"
    },
    {
     "data": {
      "application/vnd.jupyter.widget-view+json": {
       "model_id": "23c3087619ae490e9b38ac53f07bfa44",
       "version_major": 2,
       "version_minor": 0
      },
      "text/plain": [
       "sesolve:   0%|          | 0/500 [00:00<?, ?it/s]"
      ]
     },
     "metadata": {},
     "output_type": "display_data"
    },
    {
     "name": "stdout",
     "output_type": "stream",
     "text": [
      "True\n"
     ]
    },
    {
     "data": {
      "application/vnd.jupyter.widget-view+json": {
       "model_id": "eedf01e3528c44e3879541bf2241a43c",
       "version_major": 2,
       "version_minor": 0
      },
      "text/plain": [
       "Cycle:   0%|          | 0/30 [00:00<?, ?it/s]"
      ]
     },
     "metadata": {},
     "output_type": "display_data"
    },
    {
     "data": {
      "application/vnd.jupyter.widget-view+json": {
       "model_id": "6c85daf880d84aabb50329ef29ef5166",
       "version_major": 2,
       "version_minor": 0
      },
      "text/plain": [
       "sesolve:   0%|          | 0/500 [00:00<?, ?it/s]"
      ]
     },
     "metadata": {},
     "output_type": "display_data"
    },
    {
     "data": {
      "application/vnd.jupyter.widget-view+json": {
       "model_id": "33ab7f27606b4f54bd738b6b3fdd3ef4",
       "version_major": 2,
       "version_minor": 0
      },
      "text/plain": [
       "sesolve:   0%|          | 0/500 [00:00<?, ?it/s]"
      ]
     },
     "metadata": {},
     "output_type": "display_data"
    },
    {
     "data": {
      "application/vnd.jupyter.widget-view+json": {
       "model_id": "246cf7242186409aab3da75b8c1af751",
       "version_major": 2,
       "version_minor": 0
      },
      "text/plain": [
       "sesolve:   0%|          | 0/500 [00:00<?, ?it/s]"
      ]
     },
     "metadata": {},
     "output_type": "display_data"
    },
    {
     "data": {
      "application/vnd.jupyter.widget-view+json": {
       "model_id": "54ccb4ef591a4543b5a66bcbae14af13",
       "version_major": 2,
       "version_minor": 0
      },
      "text/plain": [
       "sesolve:   0%|          | 0/500 [00:00<?, ?it/s]"
      ]
     },
     "metadata": {},
     "output_type": "display_data"
    },
    {
     "data": {
      "application/vnd.jupyter.widget-view+json": {
       "model_id": "1624a48da8154e23832327f15f393b35",
       "version_major": 2,
       "version_minor": 0
      },
      "text/plain": [
       "sesolve:   0%|          | 0/500 [00:00<?, ?it/s]"
      ]
     },
     "metadata": {},
     "output_type": "display_data"
    },
    {
     "data": {
      "application/vnd.jupyter.widget-view+json": {
       "model_id": "b42ebc049e6d492e9ee720746e0c2feb",
       "version_major": 2,
       "version_minor": 0
      },
      "text/plain": [
       "sesolve:   0%|          | 0/500 [00:00<?, ?it/s]"
      ]
     },
     "metadata": {},
     "output_type": "display_data"
    },
    {
     "data": {
      "application/vnd.jupyter.widget-view+json": {
       "model_id": "82b6bbceae2e4c6082bbbe211d59bd8e",
       "version_major": 2,
       "version_minor": 0
      },
      "text/plain": [
       "sesolve:   0%|          | 0/500 [00:00<?, ?it/s]"
      ]
     },
     "metadata": {},
     "output_type": "display_data"
    },
    {
     "data": {
      "application/vnd.jupyter.widget-view+json": {
       "model_id": "1a20154be1e44fb99268c7c3b7a4c3fc",
       "version_major": 2,
       "version_minor": 0
      },
      "text/plain": [
       "sesolve:   0%|          | 0/500 [00:00<?, ?it/s]"
      ]
     },
     "metadata": {},
     "output_type": "display_data"
    },
    {
     "data": {
      "application/vnd.jupyter.widget-view+json": {
       "model_id": "63ef428439314f61aec87786ed652abf",
       "version_major": 2,
       "version_minor": 0
      },
      "text/plain": [
       "sesolve:   0%|          | 0/500 [00:00<?, ?it/s]"
      ]
     },
     "metadata": {},
     "output_type": "display_data"
    },
    {
     "data": {
      "application/vnd.jupyter.widget-view+json": {
       "model_id": "01055cb457ca443598b5d5af7a4eb647",
       "version_major": 2,
       "version_minor": 0
      },
      "text/plain": [
       "sesolve:   0%|          | 0/500 [00:00<?, ?it/s]"
      ]
     },
     "metadata": {},
     "output_type": "display_data"
    },
    {
     "data": {
      "application/vnd.jupyter.widget-view+json": {
       "model_id": "f17fb9d51ee2421286fdfb40fe78b835",
       "version_major": 2,
       "version_minor": 0
      },
      "text/plain": [
       "sesolve:   0%|          | 0/500 [00:00<?, ?it/s]"
      ]
     },
     "metadata": {},
     "output_type": "display_data"
    },
    {
     "data": {
      "application/vnd.jupyter.widget-view+json": {
       "model_id": "ebb15cf52d884b609f5a8468d346a3b4",
       "version_major": 2,
       "version_minor": 0
      },
      "text/plain": [
       "sesolve:   0%|          | 0/500 [00:00<?, ?it/s]"
      ]
     },
     "metadata": {},
     "output_type": "display_data"
    },
    {
     "data": {
      "application/vnd.jupyter.widget-view+json": {
       "model_id": "263991c14a0b4e8e854807bb1d919919",
       "version_major": 2,
       "version_minor": 0
      },
      "text/plain": [
       "sesolve:   0%|          | 0/500 [00:00<?, ?it/s]"
      ]
     },
     "metadata": {},
     "output_type": "display_data"
    },
    {
     "data": {
      "application/vnd.jupyter.widget-view+json": {
       "model_id": "8fb690e4575d412f9fb39f5ed455b8e4",
       "version_major": 2,
       "version_minor": 0
      },
      "text/plain": [
       "sesolve:   0%|          | 0/500 [00:00<?, ?it/s]"
      ]
     },
     "metadata": {},
     "output_type": "display_data"
    },
    {
     "data": {
      "application/vnd.jupyter.widget-view+json": {
       "model_id": "772664c7f7df40e3a985f38c5ab2221b",
       "version_major": 2,
       "version_minor": 0
      },
      "text/plain": [
       "sesolve:   0%|          | 0/500 [00:00<?, ?it/s]"
      ]
     },
     "metadata": {},
     "output_type": "display_data"
    },
    {
     "data": {
      "application/vnd.jupyter.widget-view+json": {
       "model_id": "b1ade42fc3654874971617d4f71b99fb",
       "version_major": 2,
       "version_minor": 0
      },
      "text/plain": [
       "sesolve:   0%|          | 0/500 [00:00<?, ?it/s]"
      ]
     },
     "metadata": {},
     "output_type": "display_data"
    },
    {
     "data": {
      "application/vnd.jupyter.widget-view+json": {
       "model_id": "0a8b849b53bc45bc95f9317e512a6573",
       "version_major": 2,
       "version_minor": 0
      },
      "text/plain": [
       "sesolve:   0%|          | 0/500 [00:00<?, ?it/s]"
      ]
     },
     "metadata": {},
     "output_type": "display_data"
    },
    {
     "data": {
      "application/vnd.jupyter.widget-view+json": {
       "model_id": "70997242e05942c1977e319d904535d5",
       "version_major": 2,
       "version_minor": 0
      },
      "text/plain": [
       "sesolve:   0%|          | 0/500 [00:00<?, ?it/s]"
      ]
     },
     "metadata": {},
     "output_type": "display_data"
    },
    {
     "data": {
      "application/vnd.jupyter.widget-view+json": {
       "model_id": "652b0d824b4341078ee96b6537220bc4",
       "version_major": 2,
       "version_minor": 0
      },
      "text/plain": [
       "sesolve:   0%|          | 0/500 [00:00<?, ?it/s]"
      ]
     },
     "metadata": {},
     "output_type": "display_data"
    },
    {
     "data": {
      "application/vnd.jupyter.widget-view+json": {
       "model_id": "d9627660f36c4d019cd0fb7413e403b2",
       "version_major": 2,
       "version_minor": 0
      },
      "text/plain": [
       "sesolve:   0%|          | 0/500 [00:00<?, ?it/s]"
      ]
     },
     "metadata": {},
     "output_type": "display_data"
    },
    {
     "data": {
      "application/vnd.jupyter.widget-view+json": {
       "model_id": "e7f57927574f4c75bf5783dbe0f7836b",
       "version_major": 2,
       "version_minor": 0
      },
      "text/plain": [
       "sesolve:   0%|          | 0/500 [00:00<?, ?it/s]"
      ]
     },
     "metadata": {},
     "output_type": "display_data"
    },
    {
     "data": {
      "application/vnd.jupyter.widget-view+json": {
       "model_id": "ee8ba0542cea407abf15716058c90072",
       "version_major": 2,
       "version_minor": 0
      },
      "text/plain": [
       "sesolve:   0%|          | 0/500 [00:00<?, ?it/s]"
      ]
     },
     "metadata": {},
     "output_type": "display_data"
    },
    {
     "data": {
      "application/vnd.jupyter.widget-view+json": {
       "model_id": "701e3240ab4f4c529b54017e7496b9ef",
       "version_major": 2,
       "version_minor": 0
      },
      "text/plain": [
       "sesolve:   0%|          | 0/500 [00:00<?, ?it/s]"
      ]
     },
     "metadata": {},
     "output_type": "display_data"
    },
    {
     "data": {
      "application/vnd.jupyter.widget-view+json": {
       "model_id": "3a2c72e670d74bf8b908a7b2fd7e3496",
       "version_major": 2,
       "version_minor": 0
      },
      "text/plain": [
       "sesolve:   0%|          | 0/500 [00:00<?, ?it/s]"
      ]
     },
     "metadata": {},
     "output_type": "display_data"
    },
    {
     "data": {
      "application/vnd.jupyter.widget-view+json": {
       "model_id": "98cc117cf0f74f2984c8183c965ae426",
       "version_major": 2,
       "version_minor": 0
      },
      "text/plain": [
       "sesolve:   0%|          | 0/500 [00:00<?, ?it/s]"
      ]
     },
     "metadata": {},
     "output_type": "display_data"
    },
    {
     "data": {
      "application/vnd.jupyter.widget-view+json": {
       "model_id": "dd201c087f9c4eb1adb4e16fa5b9de17",
       "version_major": 2,
       "version_minor": 0
      },
      "text/plain": [
       "sesolve:   0%|          | 0/500 [00:00<?, ?it/s]"
      ]
     },
     "metadata": {},
     "output_type": "display_data"
    },
    {
     "data": {
      "application/vnd.jupyter.widget-view+json": {
       "model_id": "74ca330ba55d48f3a29594e5e84b60bf",
       "version_major": 2,
       "version_minor": 0
      },
      "text/plain": [
       "sesolve:   0%|          | 0/500 [00:00<?, ?it/s]"
      ]
     },
     "metadata": {},
     "output_type": "display_data"
    },
    {
     "data": {
      "application/vnd.jupyter.widget-view+json": {
       "model_id": "23a3a193a0b04523beb475fb0156a7c5",
       "version_major": 2,
       "version_minor": 0
      },
      "text/plain": [
       "sesolve:   0%|          | 0/500 [00:00<?, ?it/s]"
      ]
     },
     "metadata": {},
     "output_type": "display_data"
    },
    {
     "data": {
      "application/vnd.jupyter.widget-view+json": {
       "model_id": "90e0a29b0614409e8103e8e272d20e6b",
       "version_major": 2,
       "version_minor": 0
      },
      "text/plain": [
       "sesolve:   0%|          | 0/500 [00:00<?, ?it/s]"
      ]
     },
     "metadata": {},
     "output_type": "display_data"
    },
    {
     "data": {
      "application/vnd.jupyter.widget-view+json": {
       "model_id": "2cd9a52aaf904837a11f29571fb1868c",
       "version_major": 2,
       "version_minor": 0
      },
      "text/plain": [
       "sesolve:   0%|          | 0/500 [00:00<?, ?it/s]"
      ]
     },
     "metadata": {},
     "output_type": "display_data"
    }
   ],
   "source": [
    "ideal = proc.runProcedure(N_cycles, measure, chain_hamiltonian=measurables.tfim_hamiltonian(proc.L, proc.tfim_parameters), \n",
    "                        setup_state_for_next_cycle=Procedure.pass_full_density_matrix, using_density_matrices=True)\n",
    "\n",
    "xz = proc.runProcedure(N_cycles, measure, chain_hamiltonian=measurables.tfim_hamiltonian(proc.L, proc.tfim_parameters), \n",
    "                        setup_state_for_next_cycle=Procedure.pass_remake_product_state_with_xz, using_state_vectors=True)\n",
    "\n",
    "xyz = proc.runProcedure(N_cycles, measure, chain_hamiltonian=measurables.tfim_hamiltonian(proc.L, proc.tfim_parameters), \n",
    "                        setup_state_for_next_cycle=Procedure.pass_remake_product_state_with_xyz, using_state_vectors=True)"
   ]
  },
  {
   "cell_type": "code",
   "execution_count": 4,
   "metadata": {},
   "outputs": [
    {
     "name": "stderr",
     "output_type": "stream",
     "text": [
      "c:\\Users\\Uporabnik\\anaconda3\\envs\\IJS2024-Humar_edition\\Lib\\site-packages\\matplotlib\\cbook.py:1762: ComplexWarning: Casting complex values to real discards the imaginary part\n",
      "  return math.isfinite(val)\n",
      "c:\\Users\\Uporabnik\\anaconda3\\envs\\IJS2024-Humar_edition\\Lib\\site-packages\\matplotlib\\cbook.py:1398: ComplexWarning: Casting complex values to real discards the imaginary part\n",
      "  return np.asarray(x, float)\n"
     ]
    },
    {
     "data": {
      "image/png": "[encoded data removed]",
      "text/plain": [
       "<Figure size 640x480 with 1 Axes>"
      ]
     },
     "metadata": {},
     "output_type": "display_data"
    }
   ],
   "source": [
    "plt.plot(ideal[0,:,-1], label = \"Ideal\")\n",
    "plt.plot(xz[0,:,-1], label = \"xz\")\n",
    "plt.plot(xyz[0,:,-1], label = \"xz\")\n",
    "plt.axhline(y=measurables.tfim_hamiltonian(proc.L, proc.tfim_parameters).eigenenergies()[0], color = \"black\", linestyle = \"dashed\", label = \"Ground energy\")\n",
    "plt.xlabel(\"Cycle\")\n",
    "plt.ylabel(\"Energy\")\n",
    "plt.legend()\n",
    "plt.show()\n"
   ]
  },
  {
   "cell_type": "code",
   "execution_count": null,
   "metadata": {},
   "outputs": [],
   "source": [
    "plt.plot(ideal[1,:,-1], label = \"Ideal\")\n",
    "plt.plot(xz[1,:,-1], label = \"xz\")\n",
    "plt.plot(xyz[1,:,-1], label = \"xz\")\n",
    "plt.xlabel(\"Cycle\")\n",
    "plt.ylabel(\"Ground state projection\")\n",
    "plt.legend()\n",
    "plt.show()"
   ]
  }
 ],
 "metadata": {
  "kernelspec": {
   "display_name": "IJS2024-Humar_edition",
   "language": "python",
   "name": "python3"
  },
  "language_info": {
   "codemirror_mode": {
    "name": "ipython",
    "version": 3
   },
   "file_extension": ".py",
   "mimetype": "text/x-python",
   "name": "python",
   "nbconvert_exporter": "python",
   "pygments_lexer": "ipython3",
   "version": "3.11.8"
  }
 },
 "nbformat": 4,
 "nbformat_minor": 2
}
