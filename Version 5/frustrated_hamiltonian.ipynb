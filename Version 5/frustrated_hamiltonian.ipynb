{
 "cells": [
  {
   "cell_type": "code",
   "execution_count": 1,
   "metadata": {},
   "outputs": [],
   "source": [
    "import numpy as np\n",
    "import qutip as qt\n",
    "import matplotlib.pyplot as plt\n",
    "import matplotlib as mpl\n",
    "import seaborn as sns\n",
    "from tqdm import tqdm\n",
    "import time, timeit\n",
    "\n",
    "from procedure_notebook import Procedure, Hamiltonian\n",
    "import measurables"
   ]
  },
  {
   "cell_type": "code",
   "execution_count": 2,
   "metadata": {},
   "outputs": [],
   "source": [
    "proc = Procedure()"
   ]
  },
  {
   "cell_type": "code",
   "execution_count": 3,
   "metadata": {},
   "outputs": [],
   "source": [
    "##Create frustrated hamiltonian\n",
    "proc.setParameters(L = 5, J = -1, hx=0.2)\n",
    "\n",
    "N_cycles = 30\n",
    "setup_state_for_next_cycle = Procedure.pass_remake_product_state_with_xyz\n",
    "using_state_vectors = False\n",
    "using_density_matrices = True\n",
    "\n",
    "\n",
    "\n",
    "eigenenergies, eigenstates = measurables.tfim_hamiltonian(proc.L, proc.tfim_parameters).eigenstates()\n",
    "\n",
    "ground_energy = eigenenergies[0]\n",
    "ground_states = []\n",
    "for i in range(len(eigenenergies)):\n",
    "    if np.round(eigenenergies[i], 8) == np.round(ground_energy, 8):\n",
    "        eigenstates[i] = eigenstates[i].ptrace([i for i in range(proc.L)])\n",
    "        ground_states.append(eigenstates[i] * eigenstates[i].dag())\n",
    "    else:\n",
    "        break \n",
    "\n",
    "def measure(state, proc):\n",
    "\n",
    "    energy = qt.expect(measurables.tfim_hamiltonian(proc.L, proc.tfim_parameters), state)\n",
    "    state = state.ptrace([i for i in range(proc.L)])\n",
    "    \n",
    "    product = 0\n",
    "    for gstate in ground_states:\n",
    "        product += Procedure.abs_squared_scalarproduct(state, gstate)\n",
    "\n",
    "    return [energy, product]\n",
    " \n"
   ]
  },
  {
   "attachments": {
    "image.png": {
     "image/png": "[encoded data removed]"
    }
   },
   "cell_type": "markdown",
   "metadata": {},
   "source": [
    "![image.png](attachment:image.png)"
   ]
  },
  {
   "cell_type": "code",
   "execution_count": 4,
   "metadata": {},
   "outputs": [],
   "source": [
    "si = qt.qeye(2)\n",
    "sx = qt.sigmax()\n",
    "sy = qt.sigmay()\n",
    "sz = qt.sigmaz()\n",
    "\n",
    "sx_list = []\n",
    "sy_list = []\n",
    "sz_list = []\n",
    "\n",
    "L = proc.L\n",
    "N = 2*L\n",
    "for n in range(N):\n",
    "    op_list = []\n",
    "    for m in range(N):\n",
    "        op_list.append(si)\n",
    "\n",
    "    op_list[n] = sx\n",
    "    sx_list.append(qt.tensor(op_list))\n",
    "\n",
    "    op_list[n] = sy\n",
    "    sy_list.append(qt.tensor(op_list))\n",
    "\n",
    "    op_list[n] = sz\n",
    "    sz_list.append(qt.tensor(op_list))\n",
    "\n",
    "J, hx, hz = proc.tfim_parameters\n",
    "hx_list = np.ones(L) * hx\n",
    "hz_list = np.ones(L) * hz\n",
    "\n",
    "H_ising_chain = 0\n",
    "\n",
    "for n in range(L):\n",
    "        H_ising_chain += -hx_list[n] * sx_list[n]\n",
    "        H_ising_chain += -hz_list[n] * sz_list[n]\n",
    "\n",
    "\n",
    "H_ising_chain += - J * sz_list[0] * sz_list[1]\n",
    "H_ising_chain += - J * sz_list[0] * sz_list[2]\n",
    "H_ising_chain += - J * sz_list[1] * sz_list[2]\n",
    "H_ising_chain += - J * sz_list[2] * sz_list[3]\n",
    "H_ising_chain += - J * sz_list[2] * sz_list[4]\n",
    "H_ising_chain += - J * sz_list[3] * sz_list[4]"
   ]
  },
  {
   "cell_type": "code",
   "execution_count": 5,
   "metadata": {},
   "outputs": [],
   "source": [
    "times = np.arange(0,proc.T+proc.dt, proc.dt)"
   ]
  },
  {
   "cell_type": "code",
   "execution_count": 6,
   "metadata": {},
   "outputs": [
    {
     "name": "stdout",
     "output_type": "stream",
     "text": [
      "True\n"
     ]
    },
    {
     "data": {
      "application/vnd.jupyter.widget-view+json": {
       "model_id": "ddb3c184c4a64b738786a3887ede2655",
       "version_major": 2,
       "version_minor": 0
      },
      "text/plain": [
       "Cycle:   0%|          | 0/30 [00:00<?, ?it/s]"
      ]
     },
     "metadata": {},
     "output_type": "display_data"
    },
    {
     "data": {
      "application/vnd.jupyter.widget-view+json": {
       "model_id": "70159e89d6514b5d8ff6d4e175229284",
       "version_major": 2,
       "version_minor": 0
      },
      "text/plain": [
       "sesolve:   0%|          | 0/500 [00:00<?, ?it/s]"
      ]
     },
     "metadata": {},
     "output_type": "display_data"
    },
    {
     "ename": "KeyboardInterrupt",
     "evalue": "",
     "output_type": "error",
     "traceback": [
      "\u001b[1;31m---------------------------------------------------------------------------\u001b[0m",
      "\u001b[1;31mKeyboardInterrupt\u001b[0m                         Traceback (most recent call last)",
      "Cell \u001b[1;32mIn[6], line 1\u001b[0m\n\u001b[1;32m----> 1\u001b[0m data \u001b[38;5;241m=\u001b[39m \u001b[43mproc\u001b[49m\u001b[38;5;241;43m.\u001b[39;49m\u001b[43mrunProcedure\u001b[49m\u001b[43m(\u001b[49m\u001b[43mN_cycles\u001b[49m\u001b[38;5;241;43m=\u001b[39;49m\u001b[43mN_cycles\u001b[49m\u001b[43m,\u001b[49m\u001b[43m \u001b[49m\u001b[43mmeasure\u001b[49m\u001b[38;5;241;43m=\u001b[39;49m\u001b[43mmeasure\u001b[49m\u001b[43m,\u001b[49m\u001b[43m \u001b[49m\u001b[43mchain_hamiltonian\u001b[49m\u001b[38;5;241;43m=\u001b[39;49m\u001b[43mH_ising_chain\u001b[49m\u001b[43m,\u001b[49m\n\u001b[0;32m      2\u001b[0m \u001b[43m                          \u001b[49m\u001b[43msetup_state_for_next_cycle\u001b[49m\u001b[38;5;241;43m=\u001b[39;49m\u001b[43msetup_state_for_next_cycle\u001b[49m\u001b[43m,\u001b[49m\n\u001b[0;32m      3\u001b[0m \u001b[43m                          \u001b[49m\u001b[43mcoupling_decrease\u001b[49m\u001b[38;5;241;43m=\u001b[39;49m\u001b[38;5;124;43m\"\u001b[39;49m\u001b[38;5;124;43muse_default\u001b[39;49m\u001b[38;5;124;43m\"\u001b[39;49m\u001b[43m,\u001b[49m\u001b[43m \u001b[49m\u001b[43musing_state_vectors\u001b[49m\u001b[38;5;241;43m=\u001b[39;49m\u001b[43musing_state_vectors\u001b[49m\u001b[43m \u001b[49m\u001b[43m,\u001b[49m\u001b[43musing_density_matrices\u001b[49m\u001b[38;5;241;43m=\u001b[39;49m\u001b[43musing_density_matrices\u001b[49m\u001b[43m)\u001b[49m\n",
      "File \u001b[1;32mc:\\Users\\Uporabnik\\OneDrive\\FMF\\IJS\\IJS2024\\Version 5\\procedure_notebook.py:384\u001b[0m, in \u001b[0;36mProcedure.runProcedure\u001b[1;34m(self, N_cycles, measure, chain_hamiltonian, setup_state_for_next_cycle, using_state_vectors, using_density_matrices, get_startstate, coupling_decrease, bath_z_field_zeeman_drive, Jc_drive)\u001b[0m\n\u001b[0;32m    382\u001b[0m     result \u001b[38;5;241m=\u001b[39m qt\u001b[38;5;241m.\u001b[39msesolve(H\u001b[38;5;241m=\u001b[39mhamiltonian\u001b[38;5;241m.\u001b[39mgetHamiltonian(cycleNumber\u001b[38;5;241m=\u001b[39mi), psi0 \u001b[38;5;241m=\u001b[39m state, tlist\u001b[38;5;241m=\u001b[39m[ts[j], ts[j\u001b[38;5;241m+\u001b[39m\u001b[38;5;241m1\u001b[39m]])\n\u001b[0;32m    383\u001b[0m \u001b[38;5;28;01melse\u001b[39;00m:\n\u001b[1;32m--> 384\u001b[0m     result \u001b[38;5;241m=\u001b[39m \u001b[43mqt\u001b[49m\u001b[38;5;241;43m.\u001b[39;49m\u001b[43mmesolve\u001b[49m\u001b[43m(\u001b[49m\u001b[43mH\u001b[49m\u001b[38;5;241;43m=\u001b[39;49m\u001b[43mhamiltonian\u001b[49m\u001b[38;5;241;43m.\u001b[39;49m\u001b[43mgetHamiltonian\u001b[49m\u001b[43m(\u001b[49m\u001b[43mcycleNumber\u001b[49m\u001b[38;5;241;43m=\u001b[39;49m\u001b[43mi\u001b[49m\u001b[43m)\u001b[49m\u001b[43m,\u001b[49m\u001b[43m \u001b[49m\u001b[43mrho0\u001b[49m\u001b[43m \u001b[49m\u001b[38;5;241;43m=\u001b[39;49m\u001b[43m \u001b[49m\u001b[43mstate\u001b[49m\u001b[43m,\u001b[49m\u001b[43m \u001b[49m\u001b[43mtlist\u001b[49m\u001b[38;5;241;43m=\u001b[39;49m\u001b[43m[\u001b[49m\u001b[43mts\u001b[49m\u001b[43m[\u001b[49m\u001b[43mj\u001b[49m\u001b[43m]\u001b[49m\u001b[43m,\u001b[49m\u001b[43m \u001b[49m\u001b[43mts\u001b[49m\u001b[43m[\u001b[49m\u001b[43mj\u001b[49m\u001b[38;5;241;43m+\u001b[39;49m\u001b[38;5;241;43m1\u001b[39;49m\u001b[43m]\u001b[49m\u001b[43m]\u001b[49m\u001b[43m)\u001b[49m\n\u001b[0;32m    386\u001b[0m \u001b[38;5;66;03m#Posebej moramo zapisati še začetno stanje, ker ga sicer nebi zapisali\u001b[39;00m\n\u001b[0;32m    387\u001b[0m \u001b[38;5;28;01mif\u001b[39;00m j \u001b[38;5;241m==\u001b[39m \u001b[38;5;241m0\u001b[39m:\n",
      "File \u001b[1;32mc:\\Users\\Uporabnik\\anaconda3\\envs\\IJS2024-Humar_edition\\Lib\\site-packages\\qutip\\solver\\mesolve.py:146\u001b[0m, in \u001b[0;36mmesolve\u001b[1;34m(H, rho0, tlist, c_ops, e_ops, args, options, **kwargs)\u001b[0m\n\u001b[0;32m    141\u001b[0m     \u001b[38;5;28;01mreturn\u001b[39;00m sesolve(H, rho0, tlist, e_ops\u001b[38;5;241m=\u001b[39me_ops, args\u001b[38;5;241m=\u001b[39margs,\n\u001b[0;32m    142\u001b[0m                    options\u001b[38;5;241m=\u001b[39moptions)\n\u001b[0;32m    144\u001b[0m solver \u001b[38;5;241m=\u001b[39m MESolver(H, c_ops, options\u001b[38;5;241m=\u001b[39moptions)\n\u001b[1;32m--> 146\u001b[0m \u001b[38;5;28;01mreturn\u001b[39;00m \u001b[43msolver\u001b[49m\u001b[38;5;241;43m.\u001b[39;49m\u001b[43mrun\u001b[49m\u001b[43m(\u001b[49m\u001b[43mrho0\u001b[49m\u001b[43m,\u001b[49m\u001b[43m \u001b[49m\u001b[43mtlist\u001b[49m\u001b[43m,\u001b[49m\u001b[43m \u001b[49m\u001b[43me_ops\u001b[49m\u001b[38;5;241;43m=\u001b[39;49m\u001b[43me_ops\u001b[49m\u001b[43m)\u001b[49m\n",
      "File \u001b[1;32mc:\\Users\\Uporabnik\\anaconda3\\envs\\IJS2024-Humar_edition\\Lib\\site-packages\\qutip\\solver\\solver_base.py:160\u001b[0m, in \u001b[0;36mSolver.run\u001b[1;34m(self, state0, tlist, args, e_ops)\u001b[0m\n\u001b[0;32m    158\u001b[0m \u001b[38;5;28;01mfor\u001b[39;00m t, state \u001b[38;5;129;01min\u001b[39;00m \u001b[38;5;28mself\u001b[39m\u001b[38;5;241m.\u001b[39m_integrator\u001b[38;5;241m.\u001b[39mrun(tlist):\n\u001b[0;32m    159\u001b[0m     progress_bar\u001b[38;5;241m.\u001b[39mupdate()\n\u001b[1;32m--> 160\u001b[0m     results\u001b[38;5;241m.\u001b[39madd(t, \u001b[38;5;28;43mself\u001b[39;49m\u001b[38;5;241;43m.\u001b[39;49m\u001b[43m_restore_state\u001b[49m\u001b[43m(\u001b[49m\u001b[43mstate\u001b[49m\u001b[43m,\u001b[49m\u001b[43m \u001b[49m\u001b[43mcopy\u001b[49m\u001b[38;5;241;43m=\u001b[39;49m\u001b[38;5;28;43;01mFalse\u001b[39;49;00m\u001b[43m)\u001b[49m)\n\u001b[0;32m    161\u001b[0m progress_bar\u001b[38;5;241m.\u001b[39mfinished()\n\u001b[0;32m    163\u001b[0m stats[\u001b[38;5;124m'\u001b[39m\u001b[38;5;124mrun time\u001b[39m\u001b[38;5;124m'\u001b[39m] \u001b[38;5;241m=\u001b[39m progress_bar\u001b[38;5;241m.\u001b[39mtotal_time()\n",
      "File \u001b[1;32mc:\\Users\\Uporabnik\\anaconda3\\envs\\IJS2024-Humar_edition\\Lib\\site-packages\\qutip\\solver\\solver_base.py:105\u001b[0m, in \u001b[0;36mSolver._restore_state\u001b[1;34m(self, data, copy)\u001b[0m\n\u001b[0;32m    102\u001b[0m     state \u001b[38;5;241m=\u001b[39m Qobj(data, \u001b[38;5;241m*\u001b[39m\u001b[38;5;241m*\u001b[39m\u001b[38;5;28mself\u001b[39m\u001b[38;5;241m.\u001b[39m_state_metadata, copy\u001b[38;5;241m=\u001b[39mcopy)\n\u001b[0;32m    104\u001b[0m \u001b[38;5;28;01mif\u001b[39;00m data\u001b[38;5;241m.\u001b[39mshape[\u001b[38;5;241m1\u001b[39m] \u001b[38;5;241m==\u001b[39m \u001b[38;5;241m1\u001b[39m \u001b[38;5;129;01mand\u001b[39;00m \u001b[38;5;28mself\u001b[39m\u001b[38;5;241m.\u001b[39m_options[\u001b[38;5;124m'\u001b[39m\u001b[38;5;124mnormalize_output\u001b[39m\u001b[38;5;124m'\u001b[39m]:\n\u001b[1;32m--> 105\u001b[0m     state \u001b[38;5;241m=\u001b[39m state \u001b[38;5;241m*\u001b[39m (\u001b[38;5;241m1\u001b[39m \u001b[38;5;241m/\u001b[39m \u001b[43mstate\u001b[49m\u001b[38;5;241;43m.\u001b[39;49m\u001b[43mnorm\u001b[49m\u001b[43m(\u001b[49m\u001b[43m)\u001b[49m)\n\u001b[0;32m    107\u001b[0m \u001b[38;5;28;01mreturn\u001b[39;00m state\n",
      "File \u001b[1;32mc:\\Users\\Uporabnik\\anaconda3\\envs\\IJS2024-Humar_edition\\Lib\\site-packages\\qutip\\core\\qobj.py:710\u001b[0m, in \u001b[0;36mQobj.norm\u001b[1;34m(self, norm, kwargs)\u001b[0m\n\u001b[0;32m    706\u001b[0m         \u001b[38;5;28;01mraise\u001b[39;00m \u001b[38;5;167;01mValueError\u001b[39;00m(\n\u001b[0;32m    707\u001b[0m             \u001b[38;5;124m\"\u001b[39m\u001b[38;5;124mvector norm must be in \u001b[39m\u001b[38;5;124m\"\u001b[39m \u001b[38;5;241m+\u001b[39m \u001b[38;5;28mrepr\u001b[39m(_NORM_ALLOWED_VECTOR)\n\u001b[0;32m    708\u001b[0m         )\n\u001b[0;32m    709\u001b[0m kwargs \u001b[38;5;241m=\u001b[39m kwargs \u001b[38;5;129;01mor\u001b[39;00m {}\n\u001b[1;32m--> 710\u001b[0m \u001b[38;5;28;01mreturn\u001b[39;00m \u001b[43m_NORM_FUNCTION_LOOKUP\u001b[49m\u001b[43m[\u001b[49m\u001b[43mnorm\u001b[49m\u001b[43m]\u001b[49m\u001b[43m(\u001b[49m\u001b[38;5;28;43mself\u001b[39;49m\u001b[38;5;241;43m.\u001b[39;49m\u001b[43m_data\u001b[49m\u001b[43m,\u001b[49m\u001b[43m \u001b[49m\u001b[38;5;241;43m*\u001b[39;49m\u001b[38;5;241;43m*\u001b[39;49m\u001b[43mkwargs\u001b[49m\u001b[43m)\u001b[49m\n",
      "File \u001b[1;32mc:\\Users\\Uporabnik\\anaconda3\\envs\\IJS2024-Humar_edition\\Lib\\site-packages\\qutip\\core\\data\\dispatch.pyx:392\u001b[0m, in \u001b[0;36mqutip.core.data.dispatch.Dispatcher.__call__\u001b[1;34m()\u001b[0m\n",
      "File \u001b[1;32mc:\\Users\\Uporabnik\\anaconda3\\envs\\IJS2024-Humar_edition\\Lib\\site-packages\\qutip\\core\\data\\norm.pyx:49\u001b[0m, in \u001b[0;36mqutip.core.data.norm.trace_dense\u001b[1;34m()\u001b[0m\n",
      "File \u001b[1;32mc:\\Users\\Uporabnik\\anaconda3\\envs\\IJS2024-Humar_edition\\Lib\\site-packages\\qutip\\core\\data\\norm.pyx:51\u001b[0m, in \u001b[0;36mqutip.core.data.norm.trace_dense\u001b[1;34m()\u001b[0m\n",
      "File \u001b[1;32mc:\\Users\\Uporabnik\\anaconda3\\envs\\IJS2024-Humar_edition\\Lib\\site-packages\\scipy\\linalg\\_misc.py:178\u001b[0m, in \u001b[0;36mnorm\u001b[1;34m(a, ord, axis, keepdims, check_finite)\u001b[0m\n\u001b[0;32m    175\u001b[0m             \u001b[38;5;28;01mreturn\u001b[39;00m lange(\u001b[38;5;241m*\u001b[39mlange_args)\n\u001b[0;32m    177\u001b[0m \u001b[38;5;66;03m# fall back to numpy in every other case\u001b[39;00m\n\u001b[1;32m--> 178\u001b[0m \u001b[38;5;28;01mreturn\u001b[39;00m \u001b[43mnp\u001b[49m\u001b[38;5;241;43m.\u001b[39;49m\u001b[43mlinalg\u001b[49m\u001b[38;5;241;43m.\u001b[39;49m\u001b[43mnorm\u001b[49m\u001b[43m(\u001b[49m\u001b[43ma\u001b[49m\u001b[43m,\u001b[49m\u001b[43m \u001b[49m\u001b[38;5;28;43mord\u001b[39;49m\u001b[38;5;241;43m=\u001b[39;49m\u001b[38;5;28;43mord\u001b[39;49m\u001b[43m,\u001b[49m\u001b[43m \u001b[49m\u001b[43maxis\u001b[49m\u001b[38;5;241;43m=\u001b[39;49m\u001b[43maxis\u001b[49m\u001b[43m,\u001b[49m\u001b[43m \u001b[49m\u001b[43mkeepdims\u001b[49m\u001b[38;5;241;43m=\u001b[39;49m\u001b[43mkeepdims\u001b[49m\u001b[43m)\u001b[49m\n",
      "File \u001b[1;32mc:\\Users\\Uporabnik\\anaconda3\\envs\\IJS2024-Humar_edition\\Lib\\site-packages\\numpy\\linalg\\linalg.py:2623\u001b[0m, in \u001b[0;36mnorm\u001b[1;34m(x, ord, axis, keepdims)\u001b[0m\n\u001b[0;32m   2621\u001b[0m     ret \u001b[38;5;241m=\u001b[39m sqrt(add\u001b[38;5;241m.\u001b[39mreduce((x\u001b[38;5;241m.\u001b[39mconj() \u001b[38;5;241m*\u001b[39m x)\u001b[38;5;241m.\u001b[39mreal, axis\u001b[38;5;241m=\u001b[39maxis))\n\u001b[0;32m   2622\u001b[0m \u001b[38;5;28;01melif\u001b[39;00m \u001b[38;5;28mord\u001b[39m \u001b[38;5;241m==\u001b[39m \u001b[38;5;124m'\u001b[39m\u001b[38;5;124mnuc\u001b[39m\u001b[38;5;124m'\u001b[39m:\n\u001b[1;32m-> 2623\u001b[0m     ret \u001b[38;5;241m=\u001b[39m \u001b[43m_multi_svd_norm\u001b[49m\u001b[43m(\u001b[49m\u001b[43mx\u001b[49m\u001b[43m,\u001b[49m\u001b[43m \u001b[49m\u001b[43mrow_axis\u001b[49m\u001b[43m,\u001b[49m\u001b[43m \u001b[49m\u001b[43mcol_axis\u001b[49m\u001b[43m,\u001b[49m\u001b[43m \u001b[49m\u001b[38;5;28;43msum\u001b[39;49m\u001b[43m)\u001b[49m\n\u001b[0;32m   2624\u001b[0m \u001b[38;5;28;01melse\u001b[39;00m:\n\u001b[0;32m   2625\u001b[0m     \u001b[38;5;28;01mraise\u001b[39;00m \u001b[38;5;167;01mValueError\u001b[39;00m(\u001b[38;5;124m\"\u001b[39m\u001b[38;5;124mInvalid norm order for matrices.\u001b[39m\u001b[38;5;124m\"\u001b[39m)\n",
      "File \u001b[1;32mc:\\Users\\Uporabnik\\anaconda3\\envs\\IJS2024-Humar_edition\\Lib\\site-packages\\numpy\\linalg\\linalg.py:2375\u001b[0m, in \u001b[0;36m_multi_svd_norm\u001b[1;34m(x, row_axis, col_axis, op)\u001b[0m\n\u001b[0;32m   2352\u001b[0m \u001b[38;5;250m\u001b[39m\u001b[38;5;124;03m\"\"\"Compute a function of the singular values of the 2-D matrices in `x`.\u001b[39;00m\n\u001b[0;32m   2353\u001b[0m \n\u001b[0;32m   2354\u001b[0m \u001b[38;5;124;03mThis is a private utility function used by `numpy.linalg.norm()`.\u001b[39;00m\n\u001b[1;32m   (...)\u001b[0m\n\u001b[0;32m   2372\u001b[0m \n\u001b[0;32m   2373\u001b[0m \u001b[38;5;124;03m\"\"\"\u001b[39;00m\n\u001b[0;32m   2374\u001b[0m y \u001b[38;5;241m=\u001b[39m moveaxis(x, (row_axis, col_axis), (\u001b[38;5;241m-\u001b[39m\u001b[38;5;241m2\u001b[39m, \u001b[38;5;241m-\u001b[39m\u001b[38;5;241m1\u001b[39m))\n\u001b[1;32m-> 2375\u001b[0m result \u001b[38;5;241m=\u001b[39m op(\u001b[43msvd\u001b[49m\u001b[43m(\u001b[49m\u001b[43my\u001b[49m\u001b[43m,\u001b[49m\u001b[43m \u001b[49m\u001b[43mcompute_uv\u001b[49m\u001b[38;5;241;43m=\u001b[39;49m\u001b[38;5;28;43;01mFalse\u001b[39;49;00m\u001b[43m)\u001b[49m, axis\u001b[38;5;241m=\u001b[39m\u001b[38;5;241m-\u001b[39m\u001b[38;5;241m1\u001b[39m)\n\u001b[0;32m   2376\u001b[0m \u001b[38;5;28;01mreturn\u001b[39;00m result\n",
      "File \u001b[1;32mc:\\Users\\Uporabnik\\anaconda3\\envs\\IJS2024-Humar_edition\\Lib\\site-packages\\numpy\\linalg\\linalg.py:1693\u001b[0m, in \u001b[0;36msvd\u001b[1;34m(a, full_matrices, compute_uv, hermitian)\u001b[0m\n\u001b[0;32m   1690\u001b[0m     gufunc \u001b[38;5;241m=\u001b[39m _umath_linalg\u001b[38;5;241m.\u001b[39msvd_n\n\u001b[0;32m   1692\u001b[0m signature \u001b[38;5;241m=\u001b[39m \u001b[38;5;124m'\u001b[39m\u001b[38;5;124mD->d\u001b[39m\u001b[38;5;124m'\u001b[39m \u001b[38;5;28;01mif\u001b[39;00m isComplexType(t) \u001b[38;5;28;01melse\u001b[39;00m \u001b[38;5;124m'\u001b[39m\u001b[38;5;124md->d\u001b[39m\u001b[38;5;124m'\u001b[39m\n\u001b[1;32m-> 1693\u001b[0m s \u001b[38;5;241m=\u001b[39m \u001b[43mgufunc\u001b[49m\u001b[43m(\u001b[49m\u001b[43ma\u001b[49m\u001b[43m,\u001b[49m\u001b[43m \u001b[49m\u001b[43msignature\u001b[49m\u001b[38;5;241;43m=\u001b[39;49m\u001b[43msignature\u001b[49m\u001b[43m,\u001b[49m\u001b[43m \u001b[49m\u001b[43mextobj\u001b[49m\u001b[38;5;241;43m=\u001b[39;49m\u001b[43mextobj\u001b[49m\u001b[43m)\u001b[49m\n\u001b[0;32m   1694\u001b[0m s \u001b[38;5;241m=\u001b[39m s\u001b[38;5;241m.\u001b[39mastype(_realType(result_t), copy\u001b[38;5;241m=\u001b[39m\u001b[38;5;28;01mFalse\u001b[39;00m)\n\u001b[0;32m   1695\u001b[0m \u001b[38;5;28;01mreturn\u001b[39;00m s\n",
      "\u001b[1;31mKeyboardInterrupt\u001b[0m: "
     ]
    }
   ],
   "source": [
    "data = proc.runProcedure(N_cycles=N_cycles, measure=measure, chain_hamiltonian=H_ising_chain,\n",
    "                          setup_state_for_next_cycle=setup_state_for_next_cycle,\n",
    "                          coupling_decrease=\"use_default\", using_state_vectors=using_state_vectors ,using_density_matrices=using_density_matrices)\n"
   ]
  },
  {
   "cell_type": "code",
   "execution_count": null,
   "metadata": {},
   "outputs": [],
   "source": [
    "H_TFIM = measurables.tfim_hamiltonian(proc.L, proc.tfim_parameters)\n",
    "M_TFIM = measurables.tfim_magnetisation(proc.L)\n",
    "\n",
    "eigen_energies = H_TFIM.eigenenergies()\n",
    "\n",
    "E0 = eigen_energies[0]\n",
    "print(\"TFIM ground energy: \", E0)"
   ]
  },
  {
   "cell_type": "code",
   "execution_count": null,
   "metadata": {},
   "outputs": [],
   "source": [
    "cmap = plt.get_cmap('jet')\n",
    "COLORS = [cmap(i) for i in np.linspace(.01, .99, N_cycles)]\n",
    "\n",
    "for i in range(len(data[0,:,0])):\n",
    "    plt.plot(times, data[0,i,:], color=COLORS[i])\n",
    "\n",
    "plt.axhline(y=E0, linestyle='--', color='black', label=r\"$E_0$\")\n",
    "\n",
    "norm = mpl.colors.Normalize(vmin=0, vmax=N_cycles)\n",
    "scalarmappable = mpl.cm.ScalarMappable(norm=norm, cmap=cmap)\n",
    "plt.colorbar(scalarmappable, ax=plt.gca(), label=\"Cycle number\")\n",
    "\n",
    "plt.xlabel(\"Time (during single cycle)\", fontsize = 15)\n",
    "plt.ylabel(\"TFIM energy\", fontsize = 15)\n",
    "plt.title(\"TFIM energies during cycles\", fontsize = 16)"
   ]
  },
  {
   "cell_type": "code",
   "execution_count": null,
   "metadata": {},
   "outputs": [],
   "source": [
    "start_cycle_energies = data[0,:,0]\n",
    "end_cycle_energies = data[0,:,-1]\n",
    "\n",
    "\n",
    "\n",
    "plt.plot(start_cycle_energies, '--o', label=\"E (start)\")\n",
    "plt.plot(end_cycle_energies, '--o', label=\"E (end)\")\n",
    "\n",
    "#plt.axhline(y=E0, linestyle='--', color='black', label=r\"$E_0$\")\n",
    "\n",
    "i = 0\n",
    "j = 0\n",
    "E = E0\n",
    "while True:\n",
    "    try:\n",
    "        i += 1\n",
    "        #print(f\"{E}  {j}  {i}\")\n",
    "        if eigen_energies[i] > np.max(start_cycle_energies) and eigen_energies[i] > np.max(end_cycle_energies):\n",
    "            break\n",
    "        if np.round(eigen_energies[i], 2) == np.round(E,2):\n",
    "            continue\n",
    "\n",
    "        plt.axhline(y=eigen_energies[i], linestyle='--', color='gray')\n",
    "        j += 1\n",
    "        E = eigen_energies[i]\n",
    "    except IndexError:\n",
    "        break\n",
    "\n",
    "J, hx, hz = proc.tfim_parameters\n",
    "\n",
    "\n",
    "plt.legend(fontsize = 16)\n",
    "plt.xlabel('Number of cycles', fontsize = 15)\n",
    "plt.ylabel('Energy', fontsize = 15)\n",
    "plt.title(fr'L={proc.L}, $\\delta t$={proc.dt}, T={T}, J={J}', fontsize = 18) "
   ]
  }
 ],
 "metadata": {
  "kernelspec": {
   "display_name": "IJS2024-Humar_edition",
   "language": "python",
   "name": "python3"
  },
  "language_info": {
   "codemirror_mode": {
    "name": "ipython",
    "version": 3
   },
   "file_extension": ".py",
   "mimetype": "text/x-python",
   "name": "python",
   "nbconvert_exporter": "python",
   "pygments_lexer": "ipython3",
   "version": "3.11.8"
  }
 },
 "nbformat": 4,
 "nbformat_minor": 2
}
