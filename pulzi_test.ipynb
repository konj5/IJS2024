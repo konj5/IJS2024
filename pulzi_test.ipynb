{
 "cells": [
  {
   "cell_type": "code",
   "execution_count": 1,
   "metadata": {},
   "outputs": [],
   "source": [
    "import numpy as np\n",
    "import qutip as qt\n",
    "import matplotlib.pyplot as plt\n",
    "import matplotlib as mpl\n",
    "import seaborn as sns\n",
    "from tqdm import tqdm\n",
    "\n",
    "%matplotlib inline\n",
    "sns.set_style(\"whitegrid\")"
   ]
  },
  {
   "cell_type": "code",
   "execution_count": 2,
   "metadata": {},
   "outputs": [],
   "source": [
    "# Pauli matricies\n",
    "\n",
    "si = qt.qeye(2)\n",
    "sx = qt.sigmax()\n",
    "sy = qt.sigmay()\n",
    "sz = qt.sigmaz()"
   ]
  },
  {
   "cell_type": "code",
   "execution_count": 3,
   "metadata": {},
   "outputs": [],
   "source": [
    "#### Simulation parameters ####\n",
    "dt = 0.1\n",
    "T = 50.0\n",
    "times = np.arange(0.0, T+dt, dt)\n",
    "\n",
    "N_cycles = 20       # Stevilo ciklov algoritma\n",
    "\n",
    "\n",
    "#### TFIM system parameters ####\n",
    "L = 3  # length of chain\n",
    "N = 2*L # total number of sites\n",
    "\n",
    "J = 1.0\n",
    "hx = 1\n",
    "hz = 1\n",
    "\n",
    "#### Coupling and bath parameters ####\n",
    "Jc = 0.8\n",
    "Bi = 4.0\n",
    "Bf = 0.0\n",
    "\n",
    "hb = 0.8\n",
    "\n",
    "tfim_parameters = [J, hx, hz]\n",
    "bath_parameters = [hb, Bi, Bf, T]\n",
    "coupling_parameters = [Jc, T]\n",
    "\n",
    "time_dependant_functions_coeffs = {'Jc': Jc, 'T': T, 'Bi': Bi, 'Bf': Bf}"
   ]
  },
  {
   "cell_type": "code",
   "execution_count": 4,
   "metadata": {},
   "outputs": [],
   "source": [
    "def tfim_hamiltonian(L, tfim_params):\n",
    "\n",
    "    sx_list = []\n",
    "    sy_list = []\n",
    "    sz_list = []\n",
    "\n",
    "    N = 2*L\n",
    "\n",
    "    for n in range(N):\n",
    "        op_list = []\n",
    "        for m in range(N):\n",
    "            op_list.append(si)\n",
    "\n",
    "        op_list[n] = sx\n",
    "        sx_list.append(qt.tensor(op_list))\n",
    "\n",
    "        op_list[n] = sz\n",
    "        sz_list.append(qt.tensor(op_list))\n",
    "\n",
    "    # Ising model hamiltonian construction\n",
    "    J, hx, hz = tfim_params\n",
    "\n",
    "    J_list = np.ones(L) * J\n",
    "    hx_list = np.ones(L) * hx\n",
    "    hz_list = np.ones(L) * hz\n",
    "\n",
    "    H_ising_chain = 0\n",
    "\n",
    "    for n in range(L):\n",
    "        H_ising_chain += -hx_list[n] * sx_list[n]\n",
    "        H_ising_chain += -hz_list[n] * sz_list[n]\n",
    "\n",
    "    for n in range(L):\n",
    "        H_ising_chain += - J_list[n] * sz_list[n] * sz_list[((n+1)%L)]\n",
    "\n",
    "    return H_ising_chain"
   ]
  },
  {
   "cell_type": "code",
   "execution_count": 86,
   "metadata": {},
   "outputs": [
    {
     "data": {
      "image/png": "[encoded data removed]",
      "text/plain": [
       "<Figure size 640x480 with 1 Axes>"
      ]
     },
     "metadata": {},
     "output_type": "display_data"
    },
    {
     "name": "stdout",
     "output_type": "stream",
     "text": [
      "Quantum object: dims=[[2], [2]], shape=(2, 2), type='oper', dtype=Dense, isherm=True\n",
      "Qobj data =\n",
      "[[1. 0.]\n",
      " [0. 0.]]\n",
      "Quantum object: dims=[[2], [2]], shape=(2, 2), type='oper', dtype=Dense, isherm=True\n",
      "Qobj data =\n",
      "[[0.49364174+0.j         0.        -0.49995958j]\n",
      " [0.        +0.49995958j 0.5063564 +0.j        ]]\n"
     ]
    }
   ],
   "source": [
    "def single_bit_rotation(hx_type,hz_type):\n",
    "    \n",
    "\n",
    "    time_dependant_functions_coeffs = {\"hx_pulse_type\": hx_type, \"hz_pulse_type\": hz_type}\n",
    "\n",
    "    t0 = 0\n",
    "    tmax = 1\n",
    "\n",
    "    def xdrive(t, args):\n",
    "        tmid = (tmax-t0)/2\n",
    "        sigma = (tmax-t0)/6\n",
    "        pulse_size = args[\"hx_pulse_type\"]\n",
    "\n",
    "        return 1/2*pulse_size*1/np.sqrt(2*np.pi*sigma**2) *np.exp(-(t-tmid)**2/(2*sigma**2))\n",
    "\n",
    "    def zdrive(t, args):\n",
    "        tmid = (tmax-t0)/2\n",
    "        sigma = (tmax-t0)/6\n",
    "        pulse_size = args[\"hz_pulse_type\"]\n",
    "\n",
    "        return 1/2*pulse_size*1/np.sqrt(2*np.pi*sigma**2) *np.exp(-(t-tmid)**2/(2*sigma**2))\n",
    "\n",
    "    H = [[sx, xdrive], [sz, zdrive]]\n",
    "\n",
    "    tlist = np.linspace(t0,tmax,100)\n",
    "    upstate = qt.basis(2,0)\n",
    "    upstate_density_matrix = upstate * upstate.dag()\n",
    "    psi0 = upstate_density_matrix\n",
    "\n",
    "    result = qt.mesolve(H, psi0, tlist, c_ops=[], e_ops=[], args=time_dependant_functions_coeffs)\n",
    "\n",
    "    psiEnd = result.states[-1]\n",
    "\n",
    "    vals = []\n",
    "    for i in range(len(tlist)):\n",
    "        vals.append(np.abs(result.states[i][1,1]))\n",
    "        \n",
    "\n",
    "    plt.plot(tlist,vals)\n",
    "    plt.show()\n",
    "\n",
    "    print(psi0)\n",
    "    print(psiEnd)\n",
    "\n",
    "single_bit_rotation(hx_type=3*np.pi/2, hz_type=0)\n",
    "\n",
    "\n",
    "\n",
    "####PREVERI ČE RES DELAJO PULZI KOT BI MORALI (3pi/2 bi mogu dat gor-dol, ne?) --> pozor, density matrix je to (so skal prod not!, ne gole vrednosti)\n",
    "\n",
    "\n",
    "\n",
    "\n",
    "\n",
    "\n"
   ]
  }
 ],
 "metadata": {
  "kernelspec": {
   "display_name": "IJS2024-Humar_edition",
   "language": "python",
   "name": "python3"
  },
  "language_info": {
   "codemirror_mode": {
    "name": "ipython",
    "version": 3
   },
   "file_extension": ".py",
   "mimetype": "text/x-python",
   "name": "python",
   "nbconvert_exporter": "python",
   "pygments_lexer": "ipython3",
   "version": "3.11.8"
  }
 },
 "nbformat": 4,
 "nbformat_minor": 2
}
